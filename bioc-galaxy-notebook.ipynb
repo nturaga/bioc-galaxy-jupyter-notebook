{
 "cells": [
  {
   "cell_type": "markdown",
   "metadata": {},
   "source": [
    "Making R/Bioconductor tool integration easier in Galaxy\n",
    "======"
   ]
  },
  {
   "cell_type": "markdown",
   "metadata": {},
   "source": [
    "This notebook will demonstrate how to use the new commands in `planemo` using an example software toolkit."
   ]
  },
  {
   "cell_type": "code",
   "execution_count": null,
   "metadata": {
    "collapsed": true
   },
   "outputs": [],
   "source": [
    "planemo bioc_tool_init --force --tool my_affy_tool_long.xml --name \"Extract Expression\" --rscript my_affy_tool.R --example_command \"Rscript /path/to/example_affy/my_affy_tool.R --input galaxy_input.CEL --output galaxy_output.txt\" --help_text \"This tool reads in Agilent CEL data and outputs probe expression values.\" --doi \"10.1093/bioinformatics/btg405\" --description \" values from CEL Agilent microarray data\""
   ]
  }
 ],
 "metadata": {
  "kernelspec": {
   "display_name": "Python 2",
   "language": "python",
   "name": "python2"
  },
  "language_info": {
   "codemirror_mode": {
    "name": "ipython",
    "version": 2
   },
   "file_extension": ".py",
   "mimetype": "text/x-python",
   "name": "python",
   "nbconvert_exporter": "python",
   "pygments_lexer": "ipython2",
   "version": "2.7.10"
  }
 },
 "nbformat": 4,
 "nbformat_minor": 1
}
